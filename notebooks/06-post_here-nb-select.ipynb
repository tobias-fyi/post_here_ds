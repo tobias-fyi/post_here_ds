{
 "cells": [
  {
   "cell_type": "markdown",
   "metadata": {},
   "source": [
    "# Post Here: Subreddit Predictor\n",
    "\n",
    "## Recommendation API - 1.6\n",
    "\n",
    "> aka: the MVP Classifier® With fewer classes"
   ]
  },
  {
   "cell_type": "markdown",
   "metadata": {},
   "source": [
    "---\n",
    "---\n",
    "\n",
    "## Intro - MVP Classifier (Model #6)\n",
    "\n",
    "The sixth iteration of the model for recommending (predicting) appropriate subreddits.\n",
    "\n",
    "The model will be trained using the [reddit self-post classification task dataset](https://www.kaggle.com/mswarbrickjones/reddit-selfposts), available on Kaggle thanks to [Evolution AI](https://evolution.ai//blog/page/5/an-imagenet-like-text-classification-task-based-on-reddit-posts/).\n",
    "\n",
    "The full dataset includes 1,013,000 rows (1000 records each from 1013 subreddits)."
   ]
  },
  {
   "cell_type": "markdown",
   "metadata": {},
   "source": [
    "---\n",
    "\n",
    "### Imports"
   ]
  },
  {
   "cell_type": "code",
   "execution_count": 1,
   "metadata": {},
   "outputs": [],
   "source": [
    "# === General imports === #\n",
    "import pandas as pd\n",
    "import numpy as np\n",
    "import os"
   ]
  },
  {
   "cell_type": "code",
   "execution_count": 2,
   "metadata": {},
   "outputs": [],
   "source": [
    "# === sklearn imports === #\n",
    "from sklearn.model_selection import train_test_split\n",
    "from sklearn.preprocessing import LabelEncoder\n",
    "from sklearn.feature_extraction.text import TfidfVectorizer\n",
    "from sklearn.naive_bayes import MultinomialNB"
   ]
  },
  {
   "cell_type": "markdown",
   "metadata": {},
   "source": [
    "---\n",
    "\n",
    "### Load and preprocess the data"
   ]
  },
  {
   "cell_type": "code",
   "execution_count": 45,
   "metadata": {},
   "outputs": [
    {
     "name": "stdout",
     "output_type": "stream",
     "text": [
      "(100000, 4)\n"
     ]
    },
    {
     "data": {
      "text/html": [
       "<div>\n",
       "<style scoped>\n",
       "    .dataframe tbody tr th:only-of-type {\n",
       "        vertical-align: middle;\n",
       "    }\n",
       "\n",
       "    .dataframe tbody tr th {\n",
       "        vertical-align: top;\n",
       "    }\n",
       "\n",
       "    .dataframe thead th {\n",
       "        text-align: right;\n",
       "    }\n",
       "</style>\n",
       "<table border=\"1\" class=\"dataframe\">\n",
       "  <thead>\n",
       "    <tr style=\"text-align: right;\">\n",
       "      <th></th>\n",
       "      <th>id</th>\n",
       "      <th>subreddit</th>\n",
       "      <th>title</th>\n",
       "      <th>selftext</th>\n",
       "    </tr>\n",
       "  </thead>\n",
       "  <tbody>\n",
       "    <tr>\n",
       "      <th>0</th>\n",
       "      <td>0</td>\n",
       "      <td>talesfromtechsupport</td>\n",
       "      <td>Remember your command line switches...</td>\n",
       "      <td>Hi there,  &lt;lb&gt;The usual. Long time lerker, fi...</td>\n",
       "    </tr>\n",
       "    <tr>\n",
       "      <th>1</th>\n",
       "      <td>1</td>\n",
       "      <td>teenmom</td>\n",
       "      <td>So what was Matt \"addicted\" to?</td>\n",
       "      <td>Did he ever say what his addiction was or is h...</td>\n",
       "    </tr>\n",
       "    <tr>\n",
       "      <th>2</th>\n",
       "      <td>2</td>\n",
       "      <td>Harley</td>\n",
       "      <td>No Club Colors</td>\n",
       "      <td>Funny story. I went to college in Las Vegas. T...</td>\n",
       "    </tr>\n",
       "    <tr>\n",
       "      <th>3</th>\n",
       "      <td>3</td>\n",
       "      <td>ringdoorbell</td>\n",
       "      <td>Not door bell, but floodlight mount height.</td>\n",
       "      <td>I know this is a sub for the 'Ring Doorbell' b...</td>\n",
       "    </tr>\n",
       "    <tr>\n",
       "      <th>4</th>\n",
       "      <td>4</td>\n",
       "      <td>intel</td>\n",
       "      <td>Worried about my 8700k small fft/data stress r...</td>\n",
       "      <td>Prime95 (regardless of version) and OCCT both,...</td>\n",
       "    </tr>\n",
       "  </tbody>\n",
       "</table>\n",
       "</div>"
      ],
      "text/plain": [
       "   id             subreddit  \\\n",
       "0   0  talesfromtechsupport   \n",
       "1   1               teenmom   \n",
       "2   2                Harley   \n",
       "3   3          ringdoorbell   \n",
       "4   4                 intel   \n",
       "\n",
       "                                               title  \\\n",
       "0             Remember your command line switches...   \n",
       "1                    So what was Matt \"addicted\" to?   \n",
       "2                                     No Club Colors   \n",
       "3        Not door bell, but floodlight mount height.   \n",
       "4  Worried about my 8700k small fft/data stress r...   \n",
       "\n",
       "                                            selftext  \n",
       "0  Hi there,  <lb>The usual. Long time lerker, fi...  \n",
       "1  Did he ever say what his addiction was or is h...  \n",
       "2  Funny story. I went to college in Las Vegas. T...  \n",
       "3  I know this is a sub for the 'Ring Doorbell' b...  \n",
       "4  Prime95 (regardless of version) and OCCT both,...  "
      ]
     },
     "execution_count": 45,
     "metadata": {},
     "output_type": "execute_result"
    }
   ],
   "source": [
    "# === Load the saved version === #\n",
    "df1 = pd.read_csv(\"rspct_100k.csv\", sep=\"\\t\")\n",
    "\n",
    "# === First looks === #\n",
    "print(df1.shape)\n",
    "df1.head()"
   ]
  },
  {
   "cell_type": "code",
   "execution_count": 46,
   "metadata": {},
   "outputs": [
    {
     "data": {
      "text/plain": [
       "array(['talesfromtechsupport', 'teenmom', 'Harley', ..., 'halo',\n",
       "       'gtaonline', 'mead'], dtype=object)"
      ]
     },
     "execution_count": 46,
     "metadata": {},
     "output_type": "execute_result"
    }
   ],
   "source": [
    "# === Get list of subreddits === #\n",
    "subreddits = df1[\"subreddit\"].unique()\n",
    "subreddits"
   ]
  },
  {
   "cell_type": "code",
   "execution_count": 47,
   "metadata": {},
   "outputs": [
    {
     "data": {
      "text/plain": [
       "(200,)"
      ]
     },
     "execution_count": 47,
     "metadata": {},
     "output_type": "execute_result"
    }
   ],
   "source": [
    "# === Prune list of subreddits === #\n",
    "num_classes = 200\n",
    "sub_small = subreddits[:num_classes]\n",
    "sub_small.shape"
   ]
  },
  {
   "cell_type": "code",
   "execution_count": 65,
   "metadata": {},
   "outputs": [
    {
     "data": {
      "text/plain": [
       "array(['talesfromtechsupport', 'teenmom', 'Harley', 'ringdoorbell',\n",
       "       'intel', 'residentevil', 'BATProject', 'hockeyplayers', 'asmr',\n",
       "       'rawdenim', 'steinsgate', 'DBZDokkanBattle', 'Nootropics', 'l5r',\n",
       "       'NameThatSong', 'homeless', 'antidepressants', 'absolver',\n",
       "       'KissAnime', 'sissyhypno', 'oculusnsfw', 'dpdr', 'Garmin',\n",
       "       'AskLiteraryStudies', 'poetry_critics', 'skiing', 'shrimptank',\n",
       "       'logorequests', 'Stargate', 'foreskin_restoration', 'sharepoint',\n",
       "       'synthesizers', 'gravityfalls', 'androiddev', 'Grimdawn',\n",
       "       'driving', 'FORTnITE', 'dndnext', 'Magic', 'MtvChallenge',\n",
       "       'FoWtcg', 'harrypotter', 'TryingForABaby', 'sewing', 'foxholegame',\n",
       "       'madmen', 'JUSTNOMIL', 'APStudents', 'sharditkeepit',\n",
       "       'amateurradio', 'sleeptrain', 'fatpeoplestories', 'GameStop',\n",
       "       'scuba', 'Firefighting', 'Mustang', 'riverdale', 'flying',\n",
       "       'bartenders', 'scooters', 'trumpet', 'projecteternity',\n",
       "       'musictheory', 'factorio', 'SexToys', 'EternalCardGame', 'PLC',\n",
       "       'sailing', 'Mattress', 'climbing', 'uberdrivers', 'Cloud9',\n",
       "       'csharp', 'communism101', 'windowsphone', 'AskAnthropology',\n",
       "       'secretsanta', 'Volkswagen', 'BigBrother', 'osugame',\n",
       "       'spartanrace', 'needforspeed', 'Cruise', 'blackmirror', 'China',\n",
       "       'resumes', 'homeassistant', 'starcraft', 'Cubers', 'Warframe',\n",
       "       'Professors', 'parrots', 'TOR', 'AvPD', 'Landlord', 'WhiteWolfRPG',\n",
       "       'DBS_CardGame', 'atheism', 'buffy', 'Shoplifting',\n",
       "       'reddeadredemption', 'germany', 'Schizoid', 'Nanny',\n",
       "       'WWEChampions', 'MMA', 'MSLGame', 'French', 'cosplay',\n",
       "       'sugarlifestyleforum', 'PHPhelp', 'WarhammerCompetitive', 'Iota',\n",
       "       'CryptoKitties', 'snakes', 'securityguards', 'Hue', 'Costco',\n",
       "       'IASIP', 'tacobell', 'jewelry', 'EmulationOnAndroid', 'Rabbits',\n",
       "       'thesims', 'dresdenfiles', 'Hunting', 'MoviePassClub',\n",
       "       'TowerofGod', 'Allergies', 'snapchat', 'nanocurrency', 'Veterans',\n",
       "       'CaptainTsubasaDT', 'Anarchism', 'indonesia', 'horror', 'malaysia',\n",
       "       'theydidthemath', 'fleshlight', 'AcademicPsychology',\n",
       "       'productivity', 'LinkinPark', 'fatestaynight', 'kucoin', 'excel',\n",
       "       'tea', 'turning', 'UnresolvedMysteries', 'diabetes', 'eczema',\n",
       "       'whatsthisworth', 'westworld', 'thewalkingdead', 'docker',\n",
       "       'xxfitness', 'emojipasta', 'synology', 'puppy101', 'Libraries',\n",
       "       'dji', 'survivor', 'muacjdiscussion', 'GMAT', 'DunderMifflin',\n",
       "       'bigboobproblems', 'LDESurvival', 'discgolf', 'Dreams',\n",
       "       'headphones', 'StudentLoans', 'bourbon', 'Geosim', 'Plumbing',\n",
       "       'ptsd', 'lawschooladmissions', 'greysanatomy', 'PrettyLittleLiars',\n",
       "       'AlphaBayMarket', 'Snus', 'TheExpanse', 'Miscarriage', 'Eve',\n",
       "       'uscg', 'fakeid', 'drumcorps', 'wacom', 'SonyXperia',\n",
       "       'vexillology', 'formula1', 'animation', 'digitalnomad',\n",
       "       'graphic_design', 'VisitingIceland', 'widowers',\n",
       "       'tabletopgamedesign', 'cats', 'RocketLeague', 'GirlsXBattle',\n",
       "       'techsupport', 'woodworking'], dtype=object)"
      ]
     },
     "execution_count": 65,
     "metadata": {},
     "output_type": "execute_result"
    }
   ],
   "source": [
    "sub_small"
   ]
  },
  {
   "cell_type": "code",
   "execution_count": 48,
   "metadata": {},
   "outputs": [
    {
     "data": {
      "text/plain": [
       "(20041, 4)"
      ]
     },
     "execution_count": 48,
     "metadata": {},
     "output_type": "execute_result"
    }
   ],
   "source": [
    "# === Extract only those rows from original dataframe === #\n",
    "df2 = df1[df1[\"subreddit\"].isin(sub_small)]\n",
    "df2.shape"
   ]
  },
  {
   "cell_type": "code",
   "execution_count": 49,
   "metadata": {},
   "outputs": [
    {
     "data": {
      "text/html": [
       "<div>\n",
       "<style scoped>\n",
       "    .dataframe tbody tr th:only-of-type {\n",
       "        vertical-align: middle;\n",
       "    }\n",
       "\n",
       "    .dataframe tbody tr th {\n",
       "        vertical-align: top;\n",
       "    }\n",
       "\n",
       "    .dataframe thead th {\n",
       "        text-align: right;\n",
       "    }\n",
       "</style>\n",
       "<table border=\"1\" class=\"dataframe\">\n",
       "  <thead>\n",
       "    <tr style=\"text-align: right;\">\n",
       "      <th></th>\n",
       "      <th>subreddit</th>\n",
       "      <th>title</th>\n",
       "      <th>selftext</th>\n",
       "      <th>text</th>\n",
       "    </tr>\n",
       "  </thead>\n",
       "  <tbody>\n",
       "    <tr>\n",
       "      <th>0</th>\n",
       "      <td>talesfromtechsupport</td>\n",
       "      <td>Remember your command line switches...</td>\n",
       "      <td>Hi there,  &lt;lb&gt;The usual. Long time lerker, fi...</td>\n",
       "      <td>Remember your command line switches... Hi ther...</td>\n",
       "    </tr>\n",
       "    <tr>\n",
       "      <th>1</th>\n",
       "      <td>teenmom</td>\n",
       "      <td>So what was Matt \"addicted\" to?</td>\n",
       "      <td>Did he ever say what his addiction was or is h...</td>\n",
       "      <td>So what was Matt \"addicted\" to? Did he ever sa...</td>\n",
       "    </tr>\n",
       "    <tr>\n",
       "      <th>2</th>\n",
       "      <td>Harley</td>\n",
       "      <td>No Club Colors</td>\n",
       "      <td>Funny story. I went to college in Las Vegas. T...</td>\n",
       "      <td>No Club Colors Funny story. I went to college ...</td>\n",
       "    </tr>\n",
       "    <tr>\n",
       "      <th>3</th>\n",
       "      <td>ringdoorbell</td>\n",
       "      <td>Not door bell, but floodlight mount height.</td>\n",
       "      <td>I know this is a sub for the 'Ring Doorbell' b...</td>\n",
       "      <td>Not door bell, but floodlight mount height. I ...</td>\n",
       "    </tr>\n",
       "    <tr>\n",
       "      <th>4</th>\n",
       "      <td>intel</td>\n",
       "      <td>Worried about my 8700k small fft/data stress r...</td>\n",
       "      <td>Prime95 (regardless of version) and OCCT both,...</td>\n",
       "      <td>Worried about my 8700k small fft/data stress r...</td>\n",
       "    </tr>\n",
       "  </tbody>\n",
       "</table>\n",
       "</div>"
      ],
      "text/plain": [
       "              subreddit                                              title  \\\n",
       "0  talesfromtechsupport             Remember your command line switches...   \n",
       "1               teenmom                    So what was Matt \"addicted\" to?   \n",
       "2                Harley                                     No Club Colors   \n",
       "3          ringdoorbell        Not door bell, but floodlight mount height.   \n",
       "4                 intel  Worried about my 8700k small fft/data stress r...   \n",
       "\n",
       "                                            selftext  \\\n",
       "0  Hi there,  <lb>The usual. Long time lerker, fi...   \n",
       "1  Did he ever say what his addiction was or is h...   \n",
       "2  Funny story. I went to college in Las Vegas. T...   \n",
       "3  I know this is a sub for the 'Ring Doorbell' b...   \n",
       "4  Prime95 (regardless of version) and OCCT both,...   \n",
       "\n",
       "                                                text  \n",
       "0  Remember your command line switches... Hi ther...  \n",
       "1  So what was Matt \"addicted\" to? Did he ever sa...  \n",
       "2  No Club Colors Funny story. I went to college ...  \n",
       "3  Not door bell, but floodlight mount height. I ...  \n",
       "4  Worried about my 8700k small fft/data stress r...  "
      ]
     },
     "execution_count": 49,
     "metadata": {},
     "output_type": "execute_result"
    }
   ],
   "source": [
    "# === Concatenate title and selftext === #\n",
    "df3[\"text\"] = df3[\"title\"] + \" \" + df3[\"selftext\"]\n",
    "df3.head()"
   ]
  },
  {
   "cell_type": "code",
   "execution_count": 50,
   "metadata": {},
   "outputs": [
    {
     "data": {
      "text/html": [
       "<div>\n",
       "<style scoped>\n",
       "    .dataframe tbody tr th:only-of-type {\n",
       "        vertical-align: middle;\n",
       "    }\n",
       "\n",
       "    .dataframe tbody tr th {\n",
       "        vertical-align: top;\n",
       "    }\n",
       "\n",
       "    .dataframe thead th {\n",
       "        text-align: right;\n",
       "    }\n",
       "</style>\n",
       "<table border=\"1\" class=\"dataframe\">\n",
       "  <thead>\n",
       "    <tr style=\"text-align: right;\">\n",
       "      <th></th>\n",
       "      <th>subreddit</th>\n",
       "      <th>text</th>\n",
       "    </tr>\n",
       "  </thead>\n",
       "  <tbody>\n",
       "    <tr>\n",
       "      <th>0</th>\n",
       "      <td>talesfromtechsupport</td>\n",
       "      <td>Remember your command line switches... Hi ther...</td>\n",
       "    </tr>\n",
       "    <tr>\n",
       "      <th>1</th>\n",
       "      <td>teenmom</td>\n",
       "      <td>So what was Matt \"addicted\" to? Did he ever sa...</td>\n",
       "    </tr>\n",
       "    <tr>\n",
       "      <th>2</th>\n",
       "      <td>Harley</td>\n",
       "      <td>No Club Colors Funny story. I went to college ...</td>\n",
       "    </tr>\n",
       "    <tr>\n",
       "      <th>3</th>\n",
       "      <td>ringdoorbell</td>\n",
       "      <td>Not door bell, but floodlight mount height. I ...</td>\n",
       "    </tr>\n",
       "    <tr>\n",
       "      <th>4</th>\n",
       "      <td>intel</td>\n",
       "      <td>Worried about my 8700k small fft/data stress r...</td>\n",
       "    </tr>\n",
       "  </tbody>\n",
       "</table>\n",
       "</div>"
      ],
      "text/plain": [
       "              subreddit                                               text\n",
       "0  talesfromtechsupport  Remember your command line switches... Hi ther...\n",
       "1               teenmom  So what was Matt \"addicted\" to? Did he ever sa...\n",
       "2                Harley  No Club Colors Funny story. I went to college ...\n",
       "3          ringdoorbell  Not door bell, but floodlight mount height. I ...\n",
       "4                 intel  Worried about my 8700k small fft/data stress r..."
      ]
     },
     "execution_count": 50,
     "metadata": {},
     "output_type": "execute_result"
    }
   ],
   "source": [
    "# === Drop unneeded columns === #\n",
    "df4 = df3.drop(columns=[\"title\", \"selftext\"])\n",
    "df4.head()"
   ]
  },
  {
   "cell_type": "code",
   "execution_count": 51,
   "metadata": {},
   "outputs": [],
   "source": [
    "# === Export new pruned dataframe to csv === #\n",
    "df4.to_csv(\"rspct_200_class.csv\")"
   ]
  },
  {
   "cell_type": "code",
   "execution_count": 52,
   "metadata": {},
   "outputs": [
    {
     "data": {
      "text/plain": [
       "((16032, 4), (4009, 4))"
      ]
     },
     "execution_count": 52,
     "metadata": {},
     "output_type": "execute_result"
    }
   ],
   "source": [
    "# === Split up dataset into train and test === #\n",
    "# from sklearn.model_selection import train_test_split\n",
    "\n",
    "# 80% train, 20% test, stratified on the target\n",
    "train, test = train_test_split(df3, test_size=0.2)\n",
    "\n",
    "train.shape, test.shape"
   ]
  },
  {
   "cell_type": "code",
   "execution_count": 53,
   "metadata": {},
   "outputs": [
    {
     "name": "stdout",
     "output_type": "stream",
     "text": [
      "(16032,) (4009,)\n",
      "(16032,) (4009,)\n"
     ]
    }
   ],
   "source": [
    "# === Arrange data into feature and target === #\n",
    "\n",
    "# MVP model only uses 'text' feature\n",
    "X_train = train[\"text\"]\n",
    "X_test = test[\"text\"]\n",
    "\n",
    "# Predict the subreddit of each post\n",
    "y_train = train[\"subreddit\"]\n",
    "y_test = test[\"subreddit\"]\n",
    "\n",
    "print(X_train.shape, X_test.shape)\n",
    "print(y_train.shape, y_test.shape)"
   ]
  },
  {
   "cell_type": "code",
   "execution_count": 54,
   "metadata": {},
   "outputs": [
    {
     "data": {
      "text/plain": [
       "array([ 48,  87,  27,  76,  84,  59,  20, 111])"
      ]
     },
     "execution_count": 54,
     "metadata": {},
     "output_type": "execute_result"
    }
   ],
   "source": [
    "# === Encode the target using LabelEncoder === #\n",
    "\n",
    "# This process naively transforms each class of the target into a number\n",
    "# from sklearn.preprocessing import LabelEncoder\n",
    "\n",
    "le = LabelEncoder() # Instantiate a new encoder instance\n",
    "le.fit(y_train)  # Fit it on training label data\n",
    "\n",
    "# Transform both using the train-fit instance\n",
    "y_train = le.transform(y_train)\n",
    "y_test  = le.transform(y_test)\n",
    "\n",
    "y_train[:8]"
   ]
  },
  {
   "cell_type": "markdown",
   "metadata": {},
   "source": [
    "---\n",
    "---\n",
    "\n",
    "### Vectorization"
   ]
  },
  {
   "cell_type": "code",
   "execution_count": 55,
   "metadata": {
    "_uuid": "27ddcca6c2af541e94133222961a83c11f54208e"
   },
   "outputs": [],
   "source": [
    "# === Vectorize! === #\n",
    "\n",
    "# Extract features from the text data using bag-of-words (single words + bigrams).\n",
    "# Uses tfidf weighting (helps a little for Naive Bayes in general).\n",
    "# from sklearn.feature_extraction.text import TfidfVectorizer\n",
    "\n",
    "tfidf = TfidfVectorizer(\n",
    "    max_features=100000,\n",
    "    min_df=5,\n",
    "    ngram_range=(1,2),\n",
    "    stop_words=\"english\",  # TODO: try out spacy's or sklearn's stopwords\n",
    ")\n",
    "\n",
    "# Fit the vectorizer on the feature column to create vocab (doc-term matrix)\n",
    "vocab = tfidf.fit(X_train)\n",
    "\n",
    "# Get sparse document-term matrices\n",
    "X_train_sparse = vocab.transform(X_train)\n",
    "X_test_sparse = vocab.transform(X_test)"
   ]
  },
  {
   "cell_type": "code",
   "execution_count": 56,
   "metadata": {
    "_uuid": "27ddcca6c2af541e94133222961a83c11f54208e"
   },
   "outputs": [
    {
     "data": {
      "text/plain": [
       "((16032, 10000), (4009, 10000))"
      ]
     },
     "execution_count": 56,
     "metadata": {},
     "output_type": "execute_result"
    }
   ],
   "source": [
    "# === Feature Selection === #\n",
    "\n",
    "from sklearn.feature_selection import chi2, SelectKBest\n",
    "\n",
    "selector = SelectKBest(chi2, 10000)\n",
    "\n",
    "selector.fit(X_train_sparse, y_train)\n",
    "\n",
    "X_train_select = selector.transform(X_train_sparse)\n",
    "X_test_select  = selector.transform(X_test_sparse)\n",
    "\n",
    "X_train_select.shape, X_test_select.shape"
   ]
  },
  {
   "cell_type": "code",
   "execution_count": 24,
   "metadata": {
    "_uuid": "6d317a155229fa60c6241e7b8d2355fb1cba9d43"
   },
   "outputs": [
    {
     "data": {
      "text/plain": [
       "RandomForestClassifier(bootstrap=True, ccp_alpha=0.0, class_weight=None,\n",
       "                       criterion='gini', max_depth=32, max_features='auto',\n",
       "                       max_leaf_nodes=None, max_samples=None,\n",
       "                       min_impurity_decrease=0.0, min_impurity_split=None,\n",
       "                       min_samples_leaf=1, min_samples_split=2,\n",
       "                       min_weight_fraction_leaf=0.0, n_estimators=200,\n",
       "                       n_jobs=-1, oob_score=False, random_state=None, verbose=0,\n",
       "                       warm_start=False)"
      ]
     },
     "execution_count": 24,
     "metadata": {},
     "output_type": "execute_result"
    }
   ],
   "source": [
    "# === Baseline RandomForest model === #\n",
    "from sklearn.ensemble import RandomForestClassifier\n",
    "\n",
    "# Instantiate and train the model\n",
    "rfc = RandomForestClassifier(max_depth=32, n_jobs=-1, n_estimators=200)\n",
    "rfc.fit(X_train, y_train)"
   ]
  },
  {
   "cell_type": "code",
   "execution_count": 26,
   "metadata": {
    "_uuid": "8d31738daa5d0382761477f16e79d1800ac6f730"
   },
   "outputs": [
    {
     "name": "stdout",
     "output_type": "stream",
     "text": [
      "precision@1 = 0.27855\n",
      "precision@3 = 0.319\n",
      "precision@5 = 0.32755\n"
     ]
    }
   ],
   "source": [
    "# === Evaluate performance using precision-at-k === #\n",
    "\n",
    "def precision_at_k(y_true, y_pred, k=5):\n",
    "    y_true = np.array(y_true)\n",
    "    y_pred = np.array(y_pred)\n",
    "    y_pred = np.argsort(y_pred, axis=1)\n",
    "    y_pred = y_pred[:, ::-1][:, :k]\n",
    "    arr = [y in s for y, s in zip(y_true, y_pred)]\n",
    "    return np.mean(arr)\n",
    "\n",
    "print('precision@1 =', np.mean(y_test == y_pred_rfc))\n",
    "print('precision@3 =', precision_at_k(y_test, y_pred_proba_rfc, 3))\n",
    "print('precision@5 =', precision_at_k(y_test, y_pred_proba_rfc, 5))"
   ]
  },
  {
   "cell_type": "code",
   "execution_count": 30,
   "metadata": {
    "jupyter": {
     "source_hidden": true
    }
   },
   "outputs": [],
   "source": [
    "# === Function to serve predictions - Random Forest === #\n",
    "\n",
    "\n",
    "def predict(post: str, n: int = 5) -> dict:\n",
    "    \"\"\"\n",
    "    Serve subreddit predictions.\n",
    "    \n",
    "    Parameters\n",
    "    ----------\n",
    "    post : string\n",
    "        Selftext that needs a home.\n",
    "    n    : integer\n",
    "        The desired name of the output file,\n",
    "        not including the '.pkl' extension.\n",
    "\n",
    "    Returns\n",
    "    -------\n",
    "    Python dictionary formatted as follows:\n",
    "        [{'subreddit': 'PLC', 'proba': 0.014454},\n",
    "         ...\n",
    "         {'subreddit': 'Rowing', 'proba': 0.005206}]\n",
    "    \"\"\"\n",
    "    \n",
    "    # Vectorize the post -> sparse doc-term matrix\n",
    "    post_vec = vocab.transform([post])\n",
    "    \n",
    "    # Generate predicted probabilities from trained model\n",
    "    proba = rfc.predict_proba(post_vec)\n",
    "    \n",
    "    # Wrangle into correct format\n",
    "    return (pd\n",
    "                .DataFrame(proba, columns=[le.classes_])  # Classes as column names\n",
    "                .T  # Transpose so column names become index\n",
    "                .reset_index()  # Pull out index into a column\n",
    "                .rename(columns={\"level_0\": \"subreddit\", 0: \"proba\"})  # Rename for aesthetics\n",
    "                .sort_values(by=\"proba\", ascending=False)  # Sort by probability\n",
    "                .iloc[:n]  # n-top predictions to serve\n",
    "                .to_dict(orient=\"records\")\n",
    "               )"
   ]
  },
  {
   "cell_type": "code",
   "execution_count": 57,
   "metadata": {
    "_uuid": "6d317a155229fa60c6241e7b8d2355fb1cba9d43"
   },
   "outputs": [
    {
     "data": {
      "text/plain": [
       "MultinomialNB(alpha=0.1, class_prior=None, fit_prior=True)"
      ]
     },
     "execution_count": 57,
     "metadata": {},
     "output_type": "execute_result"
    }
   ],
   "source": [
    "# === Naive Bayes model === #\n",
    "# from sklearn.naive_bayes import MultinomialNB\n",
    "\n",
    "# Instantiate and train the model\n",
    "nb = MultinomialNB(alpha=0.1)\n",
    "nb.fit(X_train_select, y_train)"
   ]
  },
  {
   "cell_type": "code",
   "execution_count": 59,
   "metadata": {},
   "outputs": [
    {
     "name": "stdout",
     "output_type": "stream",
     "text": [
      "precision@1 = 0.786979296582689\n",
      "precision@3 = 0.8877525567473186\n",
      "precision@5 = 0.9156896981790971\n"
     ]
    }
   ],
   "source": [
    "def precision_at_k(y_true, y_pred, k=5):\n",
    "    y_true = np.array(y_true)\n",
    "    y_pred = np.array(y_pred)\n",
    "    y_pred = np.argsort(y_pred, axis=1)\n",
    "    y_pred = y_pred[:, ::-1][:, :k]\n",
    "    arr = [y in s for y, s in zip(y_true, y_pred)]\n",
    "    return np.mean(arr)\n",
    "\n",
    "print('precision@1 =', np.mean(y_test == y_pred))\n",
    "print('precision@3 =', precision_at_k(y_test, y_pred_proba, 3))\n",
    "print('precision@5 =', precision_at_k(y_test, y_pred_proba, 5))"
   ]
  },
  {
   "cell_type": "code",
   "execution_count": 43,
   "metadata": {},
   "outputs": [],
   "source": [
    "# === Function to serve predictions - Naive Bayes === #\n",
    "\n",
    "\n",
    "def predict(post: str, n: int = 5) -> dict:\n",
    "    \"\"\"\n",
    "    Serve subreddit predictions.\n",
    "    \n",
    "    Parameters\n",
    "    ----------\n",
    "    post : string\n",
    "        Selftext that needs a home.\n",
    "    n    : integer\n",
    "        The desired name of the output file,\n",
    "        not including the '.pkl' extension.\n",
    "\n",
    "    Returns\n",
    "    -------\n",
    "    Python dictionary formatted as follows:\n",
    "        [{'subreddit': 'PLC', 'proba': 0.014454},\n",
    "         ...\n",
    "         {'subreddit': 'Rowing', 'proba': 0.005206}]\n",
    "    \"\"\"\n",
    "    \n",
    "    # Vectorize the post -> sparse doc-term matrix\n",
    "    post_vec = vocab.transform([post])\n",
    "    \n",
    "    # Generate predicted probabilities from trained model\n",
    "    proba = nb.predict_proba(post_vec)\n",
    "    \n",
    "    # Wrangle into correct format\n",
    "    return (pd\n",
    "                .DataFrame(proba, columns=[le.classes_])  # Classes as column names\n",
    "                .T  # Transpose so column names become index\n",
    "                .reset_index()  # Pull out index into a column\n",
    "                .rename(columns={\"level_0\": \"subreddit\", 0: \"proba\"})  # Rename for aesthetics\n",
    "                .sort_values(by=\"proba\", ascending=False)  # Sort by probability\n",
    "                .iloc[:n]  # n-top predictions to serve\n",
    "                .to_dict(orient=\"records\")\n",
    "               )"
   ]
  },
  {
   "cell_type": "code",
   "execution_count": 62,
   "metadata": {},
   "outputs": [],
   "source": [
    "# === Function to serve predictions === #\n",
    "# The main functionality of the predict API endpoint\n",
    "\n",
    "def predict(title: str, submission_text: str, return_count: int = 5):\n",
    "    \"\"\"\n",
    "    Serve subreddit predictions.\n",
    "    \n",
    "    Parameters\n",
    "    ----------\n",
    "    post : string\n",
    "        Selftext that needs a home.\n",
    "    n    : integer\n",
    "        The desired name of the output file,\n",
    "        not including the '.pkl' extension.\n",
    "\n",
    "    Returns\n",
    "    -------\n",
    "    Python dictionary formatted as follows:\n",
    "        [{'subreddit': 'PLC', 'proba': 0.014454},\n",
    "         ...\n",
    "         {'subreddit': 'Rowing', 'proba': 0.005206}]\n",
    "    \"\"\"\n",
    "    # Concatenate title and post text\n",
    "    fulltext = str(title) + str(submission_text)\n",
    "    \n",
    "    # Vectorize the post -> sparse doc-term matrix\n",
    "    post_sparse = vocab.transform([fulltext])\n",
    "    \n",
    "    # Feature selection\n",
    "    post_select = selector.transform(post_sparse)\n",
    "    \n",
    "    # Generate predicted probabilities from trained model\n",
    "    proba = nb.predict_proba(post_select)\n",
    "    \n",
    "    # Wrangle into correct format\n",
    "    proba_dict = (pd\n",
    "                .DataFrame(proba, columns=[le.classes_])  # Classes as column names\n",
    "                .T  # Transpose so column names become index\n",
    "                .reset_index()  # Pull out index into a column\n",
    "                .rename(columns={\"level_0\": \"name\", 0: \"proba\"})  # Rename for aesthetics\n",
    "                .sort_values(by=\"proba\", ascending=False)  # Sort by probability\n",
    "                .iloc[:return_count]  # n-top predictions to serve\n",
    "                .to_dict(orient=\"records\")\n",
    "               )\n",
    "    \n",
    "    proba_json = {\"predictions\": proba_dict}\n",
    "    \n",
    "    return proba_json"
   ]
  },
  {
   "cell_type": "code",
   "execution_count": 63,
   "metadata": {},
   "outputs": [
    {
     "data": {
      "text/plain": [
       "{'predictions': [{'name': 'tacobell', 'proba': 0.03354927608126176},\n",
       "  {'name': 'bourbon', 'proba': 0.025214174214901387},\n",
       "  {'name': 'AskAnthropology', 'proba': 0.015927474358951307},\n",
       "  {'name': 'communism101', 'proba': 0.012132597568157405},\n",
       "  {'name': 'homeless', 'proba': 0.012027423707963732}]}"
      ]
     },
     "execution_count": 63,
     "metadata": {},
     "output_type": "execute_result"
    }
   ],
   "source": [
    "title_science = \"\"\"Is there an evolutionary benefit to eating spicy food that lead to consumption across numerous cultures throughout history? Or do humans just like the sensation?\"\"\"\n",
    "\n",
    "post_science = \"\"\"I love spicy food and have done ever since I tried it. By spicy I mean HOT, like chilli peppers (we say spicy in England, I don't mean to state the obvious I'm just not sure if that's a global term and I've assumed too much before). I love a vast array of spicy foods from all around the world. I was just wondering if there was some evolutionary basis as to why spicy food managed to become some widely consumed historically. Though there seem to\n",
    "\n",
    "It way well be that we just like a tingly mouth, the simple things in life.\"\"\"\n",
    "\n",
    "science_recs = predict(title_science, post_science)\n",
    "science_recs"
   ]
  },
  {
   "cell_type": "code",
   "execution_count": 22,
   "metadata": {},
   "outputs": [
    {
     "data": {
      "text/plain": [
       "[{'subreddit': 'scooters', 'proba': 0.01277275318447536},\n",
       " {'subreddit': 'Volkswagen', 'proba': 0.012102325928117287},\n",
       " {'subreddit': 'Nootropics', 'proba': 0.01152084521575761},\n",
       " {'subreddit': 'Harley', 'proba': 0.01143704193857149},\n",
       " {'subreddit': 'woodworking', 'proba': 0.009904775134851692},\n",
       " {'subreddit': 'intel', 'proba': 0.009557180707430255},\n",
       " {'subreddit': 'Mustang', 'proba': 0.00940683354156282},\n",
       " {'subreddit': 'Warframe', 'proba': 0.009253723053607617},\n",
       " {'subreddit': 'cosplay', 'proba': 0.009198133668539598},\n",
       " {'subreddit': 'needforspeed', 'proba': 0.008983413839178141}]"
      ]
     },
     "execution_count": 22,
     "metadata": {},
     "output_type": "execute_result"
    }
   ],
   "source": [
    "# === Test post from r/buildmeapc === #\n",
    "\n",
    "post_pc = \"\"\"I posted my wants for my build about 2 months ago. Ordered them and when I went to build it I was soooooo lost. It took 3 days to put things together because I was afraid I would break something when I finally got the parts together it wouldn’t start, I was so defeated. With virtually replacing everything yesterday it finally booted and I couldn’t be more excited!\"\"\"\n",
    "\n",
    "post_pc_recs = predict(post_pc, 10)\n",
    "post_pc_recs"
   ]
  },
  {
   "cell_type": "code",
   "execution_count": 23,
   "metadata": {},
   "outputs": [
    {
     "data": {
      "text/plain": [
       "[{'subreddit': 'androiddev', 'proba': 0.058162389152266694},\n",
       " {'subreddit': 'resumes', 'proba': 0.05783334198143744},\n",
       " {'subreddit': 'PLC', 'proba': 0.042594243616314705},\n",
       " {'subreddit': 'graphic_design', 'proba': 0.02975165820725173},\n",
       " {'subreddit': 'digitalnomad', 'proba': 0.027636577001649492}]"
      ]
     },
     "execution_count": 23,
     "metadata": {},
     "output_type": "execute_result"
    }
   ],
   "source": [
    "# === Example post from 'r/learnprogramming' === #\n",
    "\n",
    "post = \"\"\"I am a new grad looking for a job and currently in the process with a company for a junior backend engineer role. I was under the impression that the position was Javascript but instead it is actually Java. My general programming and \"leet code\" skills are pretty good, but my understanding of Java is pretty shallow. How can I use the next three days to best improve my general Java knowledge? Most resources on the web seem to be targeting complete beginners. Maybe a book I can skim through in the next few days?\n",
    "\n",
    "Edit:\n",
    "\n",
    "A lot of people are saying \"the company is a sinking ship don't even go to the interview\". I just want to add that the position was always for a \"junior backend engineer\". This company uses multiple languages and the recruiter just told me the incorrect language for the specific team I'm interviewing for. I'm sure they're mainly interested in seeing my understanding of good backend principles and software design, it's not a senior lead Java position.\"\"\"\n",
    "\n",
    "# === Test out the function === #\n",
    "post_pred = predict(post)  # Default is 5 results\n",
    "post_pred"
   ]
  },
  {
   "cell_type": "code",
   "execution_count": 24,
   "metadata": {},
   "outputs": [
    {
     "data": {
      "text/plain": [
       "[{'subreddit': 'AskLiteraryStudies', 'proba': 0.06125011240086272},\n",
       " {'subreddit': 'dresdenfiles', 'proba': 0.036049946904906274},\n",
       " {'subreddit': 'TheExpanse', 'proba': 0.022492214853231957},\n",
       " {'subreddit': 'fatestaynight', 'proba': 0.02155218197542317},\n",
       " {'subreddit': 'blackmirror', 'proba': 0.020893245561080725},\n",
       " {'subreddit': 'Stargate', 'proba': 0.02070034165375228},\n",
       " {'subreddit': 'WhiteWolfRPG', 'proba': 0.019633219869847146},\n",
       " {'subreddit': 'harrypotter', 'proba': 0.01505526636330939},\n",
       " {'subreddit': 'steinsgate', 'proba': 0.013516360533768814},\n",
       " {'subreddit': 'APStudents', 'proba': 0.012423117830967478}]"
      ]
     },
     "execution_count": 24,
     "metadata": {},
     "output_type": "execute_result"
    }
   ],
   "source": [
    "# === Test it out with another dummy post === #\n",
    "\n",
    "# This one comes from r/suggestmeabook\n",
    "post2 = \"\"\"I've been dreaming about writing my own stort story for a while but I want to give it an unexpected ending. I've read lots of books, but none of them had the plot twist I want. I want to read books with the best plot twists, so that I can analyze what makes a good plot twist and write my own story based on that points. I don't like romance novels and I mostly enjoy sci-fi or historical books but anything beside romance novels would work for me, it doesn't have to be my type of novel. I'm open to experience after all. I need your help guys. Thanks in advance.\"\"\"\n",
    "\n",
    "# === This time with 10 results === #\n",
    "post2_pred = predict(post2, n=10)\n",
    "post2_pred"
   ]
  },
  {
   "cell_type": "markdown",
   "metadata": {},
   "source": [
    "---\n",
    "\n",
    "### Pickle Time"
   ]
  },
  {
   "cell_type": "code",
   "execution_count": 25,
   "metadata": {},
   "outputs": [],
   "source": [
    "# === Create pickle func to make pickling (a little) easier === #\n",
    "\n",
    "def picklizer(to_pickle, filename, path):\n",
    "    \"\"\"\n",
    "    Creates a pickle file.\n",
    "    \n",
    "    Parameters\n",
    "    ----------\n",
    "    to_pickle : Python object\n",
    "        The trained / fitted instance of the \n",
    "        transformer or model to be pickled.\n",
    "    filename : string\n",
    "        The desired name of the output file,\n",
    "        not including the '.pkl' extension.\n",
    "    path : string or path-like object\n",
    "        The path to the desired output directory.\n",
    "    \"\"\"\n",
    "    import os\n",
    "    import pickle\n",
    "\n",
    "    # Create the path to save location\n",
    "    picklepath = os.path.join(path, filename)\n",
    "\n",
    "    # Use context manager to open file\n",
    "    with open(picklepath, \"wb\") as p:\n",
    "        pickle.dump(to_pickle, p)"
   ]
  },
  {
   "cell_type": "code",
   "execution_count": 64,
   "metadata": {},
   "outputs": [],
   "source": [
    "# === Picklize! === #\n",
    "filepath = \"./pickles\"  # Change this accordingly\n",
    "\n",
    "# Export LabelEncoder as pickle\n",
    "picklizer(le, \"06_le.pkl\", filepath)\n",
    "\n",
    "# Export selector as pickle\n",
    "picklizer(selector, \"06_selector.pkl\", filepath)\n",
    "\n",
    "# Export vectorizer as pickle\n",
    "picklizer(vocab, \"06_vocab.pkl\", filepath)\n",
    "\n",
    "# Export naive bayes model as pickle\n",
    "picklizer(nb, \"06_nb.pkl\", filepath)"
   ]
  },
  {
   "cell_type": "markdown",
   "metadata": {},
   "source": [
    "Load and consume pickles...\n",
    "\n",
    "> _Enjoy responsibly._"
   ]
  },
  {
   "cell_type": "code",
   "execution_count": 68,
   "metadata": {},
   "outputs": [],
   "source": [
    "# === Load the trained vectorizer === #\n",
    "import pickle\n",
    "\n",
    "le_path = os.path.join(filepath, \"04_le.pkl\")\n",
    "\n",
    "# Use context manager to open and load pickle\n",
    "with open(le_path, \"rb\") as p:\n",
    "    le = pickle.load(p)"
   ]
  },
  {
   "cell_type": "code",
   "execution_count": 69,
   "metadata": {},
   "outputs": [],
   "source": [
    "# === Load the trained vectorizer === #\n",
    "import pickle\n",
    "\n",
    "vocab_path = os.path.join(filepath, \"04_vocab.pkl\")\n",
    "\n",
    "# Use context manager to open and load pickle\n",
    "with open(vocab_path, \"rb\") as p:\n",
    "    vocab = pickle.load(p)"
   ]
  },
  {
   "cell_type": "code",
   "execution_count": 70,
   "metadata": {},
   "outputs": [],
   "source": [
    "# === Load the somewhat-trained Random Forest classifier === #\n",
    "# import pickle\n",
    "\n",
    "rfc_path = os.path.join(filepath, \"04_rfc.pkl\")\n",
    "\n",
    "# Use context manager to open and load pickle\n",
    "with open(rfc_path, \"rb\") as p:\n",
    "    rfc = pickle.load(p)"
   ]
  },
  {
   "cell_type": "code",
   "execution_count": 71,
   "metadata": {},
   "outputs": [
    {
     "data": {
      "text/plain": [
       "[{'subreddit': 'parrots', 'proba': 0.00211370360467277},\n",
       " {'subreddit': 'flexibility', 'proba': 0.002096921513234382},\n",
       " {'subreddit': 'bladeandsoul', 'proba': 0.002071709687128192},\n",
       " {'subreddit': 'Rowing', 'proba': 0.0020525020657867544},\n",
       " {'subreddit': 'StudentLoans', 'proba': 0.0020488032050522157},\n",
       " {'subreddit': 'gigantic', 'proba': 0.0019414817435439607},\n",
       " {'subreddit': 'PLC', 'proba': 0.0018997017900174518},\n",
       " {'subreddit': 'TransDIY', 'proba': 0.001892048211568393},\n",
       " {'subreddit': 'breastfeeding', 'proba': 0.0018844645436299533},\n",
       " {'subreddit': 'RocketLeague', 'proba': 0.0018758224984953434},\n",
       " {'subreddit': 'benzodiazepines', 'proba': 0.0018668138495396874},\n",
       " {'subreddit': 'The100', 'proba': 0.0018580496088653011},\n",
       " {'subreddit': 'minecraftsuggestions', 'proba': 0.0018453927006669075},\n",
       " {'subreddit': 'techsupport', 'proba': 0.0018442340100311113},\n",
       " {'subreddit': 'Blink182', 'proba': 0.0018239715732455283},\n",
       " {'subreddit': 'dpdr', 'proba': 0.0018163028805450827},\n",
       " {'subreddit': 'logorequests', 'proba': 0.001814948788130875},\n",
       " {'subreddit': 'notebooks', 'proba': 0.001803676671939633},\n",
       " {'subreddit': 'hacking', 'proba': 0.0017961381089489498},\n",
       " {'subreddit': 'homestead', 'proba': 0.0017950154127724502}]"
      ]
     },
     "execution_count": 71,
     "metadata": {},
     "output_type": "execute_result"
    }
   ],
   "source": [
    "# === Test out the pickled versions === #\n",
    "\n",
    "# This one comes from r/buildmeapc\n",
    "post3 = \"\"\"I posted my wants for my build about 2 months ago. Ordered them and when I went to build it I was soooooo lost. It took 3 days to put things together because I was afraid I would break something when I finally got the parts together it wouldn’t start, I was so defeated. With virtually replacing everything yesterday it finally booted and I couldn’t be more excited!\"\"\"\n",
    "\n",
    "# This time I'll pass in 20, because why not?\n",
    "post3_recs = predict(post3, 20)\n",
    "post3_recs"
   ]
  },
  {
   "cell_type": "code",
   "execution_count": null,
   "metadata": {},
   "outputs": [],
   "source": []
  },
  {
   "cell_type": "code",
   "execution_count": null,
   "metadata": {},
   "outputs": [],
   "source": []
  },
  {
   "cell_type": "code",
   "execution_count": null,
   "metadata": {},
   "outputs": [],
   "source": []
  },
  {
   "cell_type": "code",
   "execution_count": null,
   "metadata": {},
   "outputs": [],
   "source": []
  }
 ],
 "metadata": {
  "kernelspec": {
   "display_name": "Python 3",
   "language": "python",
   "name": "python3"
  },
  "language_info": {
   "codemirror_mode": {
    "name": "ipython",
    "version": 3
   },
   "file_extension": ".py",
   "mimetype": "text/x-python",
   "name": "python",
   "nbconvert_exporter": "python",
   "pygments_lexer": "ipython3",
   "version": "3.7.6"
  }
 },
 "nbformat": 4,
 "nbformat_minor": 4
}
